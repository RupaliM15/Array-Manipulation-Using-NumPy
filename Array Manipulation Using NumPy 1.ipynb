{
 "cells": [
  {
   "cell_type": "code",
   "execution_count": 2,
   "id": "93e0a392",
   "metadata": {},
   "outputs": [
    {
     "name": "stdout",
     "output_type": "stream",
     "text": [
      "First array:\n",
      "[[0.08576882 0.13184597 0.87886807]\n",
      " [0.35478877 0.67326452 0.13611673]\n",
      " [0.89975346 0.933729   0.07655145]\n",
      " [0.44494689 0.44896248 0.35978928]\n",
      " [0.47336225 0.79667938 0.55207666]]\n",
      "Second array:\n",
      "[[0.75736243 0.10171589]\n",
      " [0.76442405 0.40449435]\n",
      " [0.12964977 0.00277008]]\n",
      "Dot product of two arrays:\n",
      "[[0.27968936 0.06448954]\n",
      " [0.80101078 0.30879641]\n",
      " [1.40512925 0.46941939]\n",
      " [0.72683038 0.2278576 ]\n",
      " [1.03908427 0.37193007]]\n"
     ]
    }
   ],
   "source": [
    "#Problem Statement1: Write a Python program to multiply a M×N matrix by N×A matrix and create a real matrix product.\n",
    "\n",
    "import numpy as np\n",
    "a = np.random.random((5,3))\n",
    "print(\"First array:\")\n",
    "print(a)\n",
    "b = np.random.random((3,2))\n",
    "print(\"Second array:\")\n",
    "print(b)\n",
    "c = np.dot(a,b)\n",
    "print(\"Dot product of two arrays:\")\n",
    "print(c)"
   ]
  },
  {
   "cell_type": "code",
   "execution_count": 3,
   "id": "9d85c076",
   "metadata": {},
   "outputs": [
    {
     "name": "stdout",
     "output_type": "stream",
     "text": [
      "\n",
      "Original Array:\n",
      "['Python' 'PHP' 'JS' 'Example' 'html5' '5']\n",
      "Digits only = [False False False False False  True]\n",
      "Lower case only = [False False False False  True False]\n",
      "Upper case only =  [False  True  True False False False]\n"
     ]
    },
    {
     "name": "stderr",
     "output_type": "stream",
     "text": [
      "C:\\Users\\Admin\\AppData\\Local\\Temp\\ipykernel_16672\\2349937209.py:2: DeprecationWarning: `np.str` is a deprecated alias for the builtin `str`. To silence this warning, use `str` by itself. Doing this will not modify any behavior and is safe. If you specifically wanted the numpy scalar type, use `np.str_` here.\n",
      "Deprecated in NumPy 1.20; for more details and guidance: https://numpy.org/devdocs/release/1.20.0-notes.html#deprecations\n",
      "  x = np.array(['Python','PHP','JS','Example','html5','5'], dtype=np.str)\n"
     ]
    }
   ],
   "source": [
    "#Problem Statement2: \n",
    "#Write a NumPy program to check if each element of an array of your choice is composed of digits, lower case letters, and upper case letters only.\n",
    "\n",
    "x = np.array(['Python','PHP','JS','Example','html5','5'], dtype=np.str)\n",
    "print(\"\\nOriginal Array:\")\n",
    "print(x)\n",
    "r1 = np.char.isdigit(x)\n",
    "r2 = np.char.islower(x)\n",
    "r3 = np.char.isupper(x)\n",
    "print(\"Digits only =\",r1)\n",
    "print(\"Lower case only =\",r2)\n",
    "print(\"Upper case only = \",r3)"
   ]
  },
  {
   "cell_type": "markdown",
   "id": "235037be",
   "metadata": {},
   "source": [
    "Problem Statement3:Write a program thatreads two space-separated positive integers X and Y\n",
    "    as input and perform the following tasks:Tasks to be performed:\n",
    "            1.Create a list (lst1) starting at one (1) with 16 elements at a step of X\n",
    "            2.Create a list (lst2) starting at one (1) with 16 elements at a step of 푌\n",
    "            3.Create two NumPy arrays np1 and np2 using lst1 and lst2 respectively\n",
    "            4.Reshape both the NumPy arrays to (4,4)5.\n",
    "            Create a new np array (np3) with values obtained by subtracting both the arrays (np1 -np2)\n",
    "            6.Print all the elements of np3 in a single dimension list like the format as shown below:\n",
    "                a.[n0 n1 n2 n3 n4 n5 n6 n7 n8]\n",
    "\n",
    "    "
   ]
  },
  {
   "cell_type": "code",
   "execution_count": 29,
   "id": "035c4803",
   "metadata": {},
   "outputs": [
    {
     "name": "stdout",
     "output_type": "stream",
     "text": [
      "[1, 8, 15, 22, 29, 36, 43, 50, 57, 64, 71, 78, 85, 92, 99, 106]\n",
      "[1, 10, 19, 28, 37, 46, 55, 64, 73, 82, 91, 100, 109, 118, 127, 136]\n",
      "[0, -2, -4, -6, -8, -10, -12, -14, -16, -18, -20, -22, -24, -26, -28, -30]\n"
     ]
    }
   ],
   "source": [
    "# \n",
    "\n",
    "given_string = '7 9'\n",
    "X,Y = map(int, given_string.split())\n",
    "\n",
    "lst1 = list(range(1, 1+16*X, X))\n",
    "print(lst1)\n",
    "\n",
    "lst2 = list(range(1, 1+16*Y, Y))\n",
    "print(lst2)\n",
    "\n",
    "np1 = np.array(lst1)\n",
    "np2 = np.array(lst2)\n",
    "\n",
    "np1 = np1.reshape(4,4)\n",
    "np2 = np2.reshape(4,4)\n",
    "\n",
    "np3 = np1 - np2\n",
    "\n",
    "print(np3.flatten().tolist())"
   ]
  },
  {
   "cell_type": "markdown",
   "id": "38839653",
   "metadata": {},
   "source": [
    "Problem Statement4: \n",
    "    Write a Python program thattakes two integer-NumPy arrays, \n",
    "    P and Q of shape [3∗3]and performthe following task:\n",
    "        \n",
    "Task to be performed:Print the element-wise difference of the matrix P and Q (P−Q)."
   ]
  },
  {
   "cell_type": "code",
   "execution_count": 30,
   "id": "dbce6c0c",
   "metadata": {},
   "outputs": [
    {
     "name": "stdout",
     "output_type": "stream",
     "text": [
      "[11, 22, 33]\n",
      "[-4, 4, 42]\n",
      "[-2, 4, 0]\n"
     ]
    }
   ],
   "source": [
    "\n",
    "P = [[23, 56, 87], [3, 6, 96], [4, 6, 78]]\n",
    "Q = [[12, 34, 54], [7, 2, 54], [6, 2, 78]]\n",
    "result = [[P[i][j] - Q[i][j]  for j in range(len(P[0]))] for i in range(len(Q))]\n",
    "\n",
    "for r in result:\n",
    "    print(r)"
   ]
  }
 ],
 "metadata": {
  "kernelspec": {
   "display_name": "Python 3 (ipykernel)",
   "language": "python",
   "name": "python3"
  },
  "language_info": {
   "codemirror_mode": {
    "name": "ipython",
    "version": 3
   },
   "file_extension": ".py",
   "mimetype": "text/x-python",
   "name": "python",
   "nbconvert_exporter": "python",
   "pygments_lexer": "ipython3",
   "version": "3.9.13"
  }
 },
 "nbformat": 4,
 "nbformat_minor": 5
}
